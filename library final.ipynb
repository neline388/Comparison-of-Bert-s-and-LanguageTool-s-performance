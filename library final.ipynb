{
 "cells": [
  {
   "cell_type": "code",
   "execution_count": 4,
   "metadata": {},
   "outputs": [],
   "source": [
    "import pandas as pd\n",
    "import language_tool_python\n",
    "from spellchecker import SpellChecker\n",
    "from sklearn.metrics import precision_recall_fscore_support\n"
   ]
  },
  {
   "cell_type": "code",
   "execution_count": 5,
   "metadata": {},
   "outputs": [],
   "source": [
    "\n",
    "def correct_spelling(text, spell):\n",
    "    words = text.split()\n",
    "    corrected_words = [spell.correction(word) if spell.correction(word) else word for word in words]\n",
    "    return ' '.join(corrected_words)\n",
    "\n",
    "def check_grammar(text, tool):\n",
    "    matches = tool.check(text)\n",
    "    return language_tool_python.utils.correct(text, matches)\n",
    "\n",
    "def evaluate_predictions(y_true, y_pred):\n",
    "    precision, recall, f1, _ = precision_recall_fscore_support(y_true, y_pred, average='binary')\n",
    "    return precision, recall, f1"
   ]
  },
  {
   "cell_type": "code",
   "execution_count": 6,
   "metadata": {},
   "outputs": [],
   "source": [
    "df = pd.read_csv('./training_true.csv', header= 0,\n",
    "                        encoding= 'unicode_escape')\n",
    "df.rename(columns={\"Has_Correction\":\"label\"},inplace=True)\n",
    "train_df = df.sample(frac=0.5 , random_state=42)"
   ]
  },
  {
   "cell_type": "code",
   "execution_count": 7,
   "metadata": {},
   "outputs": [
    {
     "data": {
      "text/html": [
       "<div>\n",
       "<style scoped>\n",
       "    .dataframe tbody tr th:only-of-type {\n",
       "        vertical-align: middle;\n",
       "    }\n",
       "\n",
       "    .dataframe tbody tr th {\n",
       "        vertical-align: top;\n",
       "    }\n",
       "\n",
       "    .dataframe thead th {\n",
       "        text-align: right;\n",
       "    }\n",
       "</style>\n",
       "<table border=\"1\" class=\"dataframe\">\n",
       "  <thead>\n",
       "    <tr style=\"text-align: right;\">\n",
       "      <th></th>\n",
       "      <th>Input</th>\n",
       "      <th>Output</th>\n",
       "      <th>label</th>\n",
       "    </tr>\n",
       "  </thead>\n",
       "  <tbody>\n",
       "    <tr>\n",
       "      <th>70401</th>\n",
       "      <td>Four is presentation .</td>\n",
       "      <td>Fourth was presentation .</td>\n",
       "      <td>1</td>\n",
       "    </tr>\n",
       "    <tr>\n",
       "      <th>371361</th>\n",
       "      <td>I do n't often criticize but carry out .</td>\n",
       "      <td>I do n't often criticize but carry out .</td>\n",
       "      <td>0</td>\n",
       "    </tr>\n",
       "    <tr>\n",
       "      <th>93334</th>\n",
       "      <td>Thank you .</td>\n",
       "      <td>Thank you .</td>\n",
       "      <td>0</td>\n",
       "    </tr>\n",
       "    <tr>\n",
       "      <th>616375</th>\n",
       "      <td>I 'm trying to learn English at the moment , I...</td>\n",
       "      <td>I 'm trying to learn English at the moment . I...</td>\n",
       "      <td>1</td>\n",
       "    </tr>\n",
       "    <tr>\n",
       "      <th>824780</th>\n",
       "      <td>I really appreciate your help .</td>\n",
       "      <td>I really appreciate your help .</td>\n",
       "      <td>0</td>\n",
       "    </tr>\n",
       "  </tbody>\n",
       "</table>\n",
       "</div>"
      ],
      "text/plain": [
       "                                                    Input  \\\n",
       "70401                              Four is presentation .   \n",
       "371361           I do n't often criticize but carry out .   \n",
       "93334                                         Thank you .   \n",
       "616375  I 'm trying to learn English at the moment , I...   \n",
       "824780                    I really appreciate your help .   \n",
       "\n",
       "                                                   Output  label  \n",
       "70401                           Fourth was presentation .      1  \n",
       "371361           I do n't often criticize but carry out .      0  \n",
       "93334                                         Thank you .      0  \n",
       "616375  I 'm trying to learn English at the moment . I...      1  \n",
       "824780                    I really appreciate your help .      0  "
      ]
     },
     "execution_count": 7,
     "metadata": {},
     "output_type": "execute_result"
    }
   ],
   "source": [
    "train_df.head()"
   ]
  },
  {
   "cell_type": "code",
   "execution_count": 9,
   "metadata": {},
   "outputs": [],
   "source": [
    "spell = SpellChecker()\n",
    "tool = language_tool_python.LanguageTool('en-US')"
   ]
  },
  {
   "cell_type": "code",
   "execution_count": 10,
   "metadata": {},
   "outputs": [],
   "source": [
    "train_df['corrected_text'] = train_df['Input'].apply(lambda x: correct_spelling(x, spell))\n",
    "train_df['final_text'] = train_df['corrected_text'].apply(lambda x: check_grammar(x, tool))"
   ]
  },
  {
   "cell_type": "code",
   "execution_count": 11,
   "metadata": {},
   "outputs": [],
   "source": [
    "from sklearn.metrics import accuracy_score"
   ]
  },
  {
   "cell_type": "code",
   "execution_count": 12,
   "metadata": {},
   "outputs": [],
   "source": [
    "train_df['predicted_label'] = train_df.apply(lambda row: 1 if row['final_text'] != row['Input'] else 0, axis=1)"
   ]
  },
  {
   "cell_type": "code",
   "execution_count": 13,
   "metadata": {},
   "outputs": [
    {
     "name": "stdout",
     "output_type": "stream",
     "text": [
      "Precision: 0.563477431249436\n",
      "Recall: 0.9533521655196484\n",
      "F1 Score: 0.7083095298869995\n",
      "Accuracy: 0.5878082434916037\n",
      "                                                    Input  \\\n",
      "70401                              Four is presentation .   \n",
      "371361           I do n't often criticize but carry out .   \n",
      "93334                                         Thank you .   \n",
      "616375  I 'm trying to learn English at the moment , I...   \n",
      "824780                    I really appreciate your help .   \n",
      "...                                                   ...   \n",
      "588819  but he was like `` oh really . `` mannn that '...   \n",
      "50153    I eat Tempura today , the Japanese famous food .   \n",
      "918613                      But I want to talk fluently .   \n",
      "578187                     It was really quickly for me !   \n",
      "831315  So I rode a bicycle , I strongly pedaled with ...   \n",
      "\n",
      "                                               final_text  label  \\\n",
      "70401                               Four is presentation.      1   \n",
      "371361            I do not often criticize but carry out.      0   \n",
      "93334                                          Thank you.      0   \n",
      "616375  I am trying to learn English at the moment, I ...      1   \n",
      "824780                     I really appreciate your help.      0   \n",
      "...                                                   ...    ...   \n",
      "588819  But he was like i oh really. I manna that is a...      1   \n",
      "50153      I eat Tempura today, the Japanese famous food.      1   \n",
      "918613                       But I want to talk fluently.      0   \n",
      "578187                     It was really quickly for me !      1   \n",
      "831315  So I rode a bicycle, I strongly pedaled with c...      1   \n",
      "\n",
      "        predicted_label  \n",
      "70401                 1  \n",
      "371361                1  \n",
      "93334                 1  \n",
      "616375                1  \n",
      "824780                1  \n",
      "...                 ...  \n",
      "588819                1  \n",
      "50153                 1  \n",
      "918613                1  \n",
      "578187                0  \n",
      "831315                1  \n",
      "\n",
      "[174659 rows x 4 columns]\n"
     ]
    }
   ],
   "source": [
    "\n",
    "precision, recall, f1 = evaluate_predictions(train_df['label'], train_df['predicted_label'])\n",
    "accuracy = accuracy_score(train_df['label'], train_df['predicted_label'])\n",
    "print(\"Precision:\", precision)\n",
    "print(\"Recall:\", recall)\n",
    "print(\"F1 Score:\", f1)\n",
    "print(\"Accuracy:\", accuracy)\n",
    "print(train_df[['Input', 'final_text', 'label', 'predicted_label']])"
   ]
  }
 ],
 "metadata": {
  "kernelspec": {
   "display_name": "Python 3",
   "language": "python",
   "name": "python3"
  },
  "language_info": {
   "codemirror_mode": {
    "name": "ipython",
    "version": 3
   },
   "file_extension": ".py",
   "mimetype": "text/x-python",
   "name": "python",
   "nbconvert_exporter": "python",
   "pygments_lexer": "ipython3",
   "version": "3.10.11"
  }
 },
 "nbformat": 4,
 "nbformat_minor": 2
}
